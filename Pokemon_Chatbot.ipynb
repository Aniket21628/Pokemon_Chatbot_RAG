{
  "nbformat": 4,
  "nbformat_minor": 0,
  "metadata": {
    "colab": {
      "provenance": [],
      "authorship_tag": "ABX9TyP0t38ky/L6eD023hwwT9rf",
      "include_colab_link": true
    },
    "kernelspec": {
      "name": "python3",
      "display_name": "Python 3"
    },
    "language_info": {
      "name": "python"
    }
  },
  "cells": [
    {
      "cell_type": "markdown",
      "metadata": {
        "id": "view-in-github",
        "colab_type": "text"
      },
      "source": [
        "<a href=\"https://colab.research.google.com/github/Aniket21628/Pokemon_Chatbot_RAG/blob/main/Pokemon_Chatbot.ipynb\" target=\"_parent\"><img src=\"https://colab.research.google.com/assets/colab-badge.svg\" alt=\"Open In Colab\"/></a>"
      ]
    },
    {
      "cell_type": "code",
      "execution_count": 2,
      "metadata": {
        "id": "Uw4UebY4gVGs"
      },
      "outputs": [],
      "source": [
        "%pip install -q langchain langchain-nvidia-ai-endpoints"
      ]
    },
    {
      "cell_type": "code",
      "source": [
        "from functools import partial\n",
        "from rich.console import Console\n",
        "from rich.style import Style\n",
        "from rich.theme import Theme\n",
        "\n",
        "console = Console()\n",
        "base_style = Style(color = \"#76B900\", bold=True)\n",
        "pprint = partial(console.print, style=base_style)"
      ],
      "metadata": {
        "id": "ZTqT_AHHhaYZ"
      },
      "execution_count": 3,
      "outputs": []
    },
    {
      "cell_type": "code",
      "source": [
        "from langchain_nvidia_ai_endpoints import ChatNVIDIA\n",
        "from google.colab import userdata\n",
        "\n",
        "api_key = userdata.get('NVIDIA_API_KEY')"
      ],
      "metadata": {
        "id": "hIxcxNwgh9IC"
      },
      "execution_count": 14,
      "outputs": []
    },
    {
      "cell_type": "code",
      "source": [
        "from langchain_core.runnables import RunnableLambda\n",
        "from functools import partial\n",
        "\n",
        "def RPrint(preface = \"State: \"):\n",
        "  def print_and_return(x, preface=\"\"):\n",
        "        print(f\"{preface}{x}\")\n",
        "        return x\n",
        "  return RunnableLambda(partial(print_and_return, preface=preface))\n",
        "\n",
        "def PPrint(preface=\"State: \"):\n",
        "    def print_and_return(x, preface=\"\"):\n",
        "        pprint(preface, x)\n",
        "        return x\n",
        "    return RunnableLambda(partial(print_and_return, preface=preface))"
      ],
      "metadata": {
        "id": "2tu5ZSwKiMii"
      },
      "execution_count": 5,
      "outputs": []
    },
    {
      "cell_type": "code",
      "source": [
        "pip install langchain-community wikipedia"
      ],
      "metadata": {
        "id": "_zIGpxmfixN1"
      },
      "execution_count": null,
      "outputs": []
    },
    {
      "cell_type": "code",
      "source": [
        "from langchain_community.document_loaders import WikipediaLoader\n",
        "from datetime import datetime, timedelta\n",
        "import os\n",
        "import json\n",
        "\n",
        "docs = WikipediaLoader(query=\"Pokemon and Everything about Pokemon\", load_max_docs=1000).load()\n"
      ],
      "metadata": {
        "id": "FDMzqdzBi2mU"
      },
      "execution_count": null,
      "outputs": []
    },
    {
      "cell_type": "code",
      "source": [
        "def create_chunks_with_headers(doc, doc_index):\n",
        "    chunk_size = 800\n",
        "    chunk_overlap = 100\n",
        "    chunks = []\n",
        "    start = 0\n",
        "    doc_content = doc.page_content\n",
        "    doc_length = len(doc.page_content)\n",
        "\n",
        "    while start < doc_length:\n",
        "        end = min(start + chunk_size, doc_length)\n",
        "        chunk = doc_content[start:end]\n",
        "\n",
        "        if start != 0:\n",
        "            chunk = doc_content[max(start - chunk_overlap, 0):end]\n",
        "\n",
        "        chunk_json = {\n",
        "            \"meta_data\": {\n",
        "                \"title\": doc.metadata[\"title\"],\n",
        "                \"summary\": doc.metadata['summary'],\n",
        "                \"source_url\": doc.metadata['source'],\n",
        "            },\n",
        "            \"chunk_index\": len(chunks) + 1,\n",
        "            \"content\": chunk\n",
        "        }\n",
        "        chunks.append(chunk_json)\n",
        "\n",
        "        start += chunk_size\n",
        "\n",
        "    return chunks"
      ],
      "metadata": {
        "id": "yzG066s3lJw-"
      },
      "execution_count": 11,
      "outputs": []
    },
    {
      "cell_type": "code",
      "source": [
        "all_chunks = []\n",
        "\n",
        "for i,doc in enumerate(docs):\n",
        "  chunks = create_chunks_with_headers(doc, i+1)\n",
        "  all_chunks.extend(chunks)\n",
        "  print(f\"Created {len(chunks)} chunks for document {i+1}\")\n",
        "\n",
        "print(\"All data has been processed\")"
      ],
      "metadata": {
        "id": "933b2UuYrC46"
      },
      "execution_count": null,
      "outputs": []
    },
    {
      "cell_type": "code",
      "source": [
        "%pip install --upgrade --quiet lark langchain-chroma\n",
        "%pip install --upgrade --quiet langchain-cohere"
      ],
      "metadata": {
        "id": "DBOzAvNsrrxz"
      },
      "execution_count": null,
      "outputs": []
    },
    {
      "cell_type": "code",
      "source": [],
      "metadata": {
        "id": "EdRW-1rJsYP5"
      },
      "execution_count": null,
      "outputs": []
    }
  ]
}